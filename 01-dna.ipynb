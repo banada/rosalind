{
 "cells": [
  {
   "cell_type": "code",
   "execution_count": 6,
   "id": "de6abb30-6a25-4716-aefb-b3b1c0324089",
   "metadata": {},
   "outputs": [
    {
     "data": {
      "text/plain": [
       "Seq('GCACCGACTGGACTAATTATTGCGTTAGACTCCTCGCTCAAATGCTACATTCGA...TT\n",
       "')"
      ]
     },
     "execution_count": 6,
     "metadata": {},
     "output_type": "execute_result"
    }
   ],
   "source": [
    "from Bio.Seq import Seq\n",
    "file = open(\"rosalind_dna.txt\", \"r\").read()\n",
    "seq = Seq(file)\n",
    "seq"
   ]
  },
  {
   "cell_type": "code",
   "execution_count": 4,
   "id": "b7d02196-5276-4847-bdf3-d52e4c999d6e",
   "metadata": {},
   "outputs": [
    {
     "name": "stdout",
     "output_type": "stream",
     "text": [
      "A: 251\n",
      "C: 239\n",
      "G: 236\n",
      "T: 228\n"
     ]
    }
   ],
   "source": [
    "print(\"A:\", seq.count(\"A\"))\n",
    "print(\"C:\", seq.count(\"C\"))\n",
    "print(\"G:\", seq.count(\"G\"))\n",
    "print(\"T:\", seq.count(\"T\"))"
   ]
  },
  {
   "cell_type": "code",
   "execution_count": null,
   "id": "87edb8b5-8066-46d9-a2c3-b153a837909b",
   "metadata": {},
   "outputs": [],
   "source": []
  }
 ],
 "metadata": {
  "kernelspec": {
   "display_name": "Python 3 (ipykernel)",
   "language": "python",
   "name": "python3"
  },
  "language_info": {
   "codemirror_mode": {
    "name": "ipython",
    "version": 3
   },
   "file_extension": ".py",
   "mimetype": "text/x-python",
   "name": "python",
   "nbconvert_exporter": "python",
   "pygments_lexer": "ipython3",
   "version": "3.9.12"
  }
 },
 "nbformat": 4,
 "nbformat_minor": 5
}
