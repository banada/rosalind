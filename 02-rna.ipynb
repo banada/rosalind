{
 "cells": [
  {
   "cell_type": "code",
   "execution_count": 5,
   "id": "79a46baf-3e12-4d15-8fa7-b52390d7dcdb",
   "metadata": {},
   "outputs": [
    {
     "name": "stdout",
     "output_type": "stream",
     "text": [
      "CUAUGACUUGAUAUCAUAUGUAUUAUGCGUAUGACUGUUACAAGAUGGUAUAGAGCCUCAACUCUUGCUCUCAGCAGUUUCUUCGUUAGAACUUCCAUCACCGCCGGGCAUUUUACGUUAGACAUAGUUAGAACAAAGGGCGGCCUGUGAUUCGCCGACCCGAGCAGUAAGUUUCUUAUAACAAAGCUCCUUUCGUAUGUUCUGCGGAUGGCAGUAAGAGUAGGUCCCCCAUCUAAGGGCACAAAAACCUGAGGGCAGGAUCUAACUGUUGUCCAGCACCAGAGUUAUAAAACGGCCUUCGAGUCACCCUAACUCUCUUCUGAGAAUUGAAAUGAGGAGGGCGCGCCUGGUUCGCGAAUUAGAUAAGUGUCAGUGCACCCCAGGCUGCUUUCUACAUAUAUGAUUCUAGAUGAAAAUCGGUAGAUGCGGUCAAUAAGGCGACUACCGUUCGCCUGCAGAAACGUCCCGCUUCGCUCGGUUAAAACAUUACAACAAUUUCUUAAAUGGGGAAGAGUAACUCGUCGACGCGUCCGACUGCCAGUUCCGAUCCAUUCACCAAAGGAAUCAGCAUGUGCUUACUUACCGCUGGUCCACACCCCAUGGUGUGACCCUCAUAACGCGCCUGUGAGCGAGCUCACCAGACCGUUACAUCGAACUUGUGCUAGGAGCCUAGACCUGGAAGAAUAGUUCUGAGGGGAGAUACAUCGUGCGCGCCUCGAGCCGUGUCGUUAGGUAGGGUCCCUUUGCUAAACGAGCUCCGCAGUAGCAACGUCGUGUGCACCUUUUUUAGCUAGGGUGACAGAUUGCCGAGGAGUCCUUCGCCCCCUAUGGUGCUUCGGGGGCUGUAUCUCGGCUCGAUAUCUUUUCUCUCACCUCACACUGACGGCGUCUUAGCGCAGUGUUGUUGAACAAUAA\n",
      "\n"
     ]
    }
   ],
   "source": [
    "from Bio.Seq import Seq\n",
    "\n",
    "file = open(\"rosalind_rna.txt\", \"r\").read()\n",
    "seq = Seq(file)\n",
    "rna = seq.transcribe();\n",
    "print(rna)"
   ]
  },
  {
   "cell_type": "code",
   "execution_count": null,
   "id": "da61d155-51fa-420d-aea3-34d15018add8",
   "metadata": {},
   "outputs": [],
   "source": []
  }
 ],
 "metadata": {
  "kernelspec": {
   "display_name": "Python 3 (ipykernel)",
   "language": "python",
   "name": "python3"
  },
  "language_info": {
   "codemirror_mode": {
    "name": "ipython",
    "version": 3
   },
   "file_extension": ".py",
   "mimetype": "text/x-python",
   "name": "python",
   "nbconvert_exporter": "python",
   "pygments_lexer": "ipython3",
   "version": "3.9.12"
  }
 },
 "nbformat": 4,
 "nbformat_minor": 5
}
