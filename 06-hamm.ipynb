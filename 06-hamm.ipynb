{
 "cells": [
  {
   "cell_type": "code",
   "execution_count": 14,
   "id": "879405aa-f130-42f1-96ba-2aceee0f90e9",
   "metadata": {},
   "outputs": [
    {
     "name": "stdout",
     "output_type": "stream",
     "text": [
      "518\n"
     ]
    }
   ],
   "source": [
    "from Bio.Seq import Seq\n",
    "\n",
    "file = open(\"rosalind_hamm.txt\", \"r\")\n",
    "sequences = []\n",
    "distance = 0\n",
    "for i, seq in enumerate(file):\n",
    "    sequences.append(seq)\n",
    "for j in range(len(sequences[0])):\n",
    "    if (sequences[0][j] != sequences[1][j]):\n",
    "        distance += 1\n",
    "print(distance)"
   ]
  },
  {
   "cell_type": "code",
   "execution_count": null,
   "id": "17260612-7ed0-41f6-8279-bed6fce04af4",
   "metadata": {},
   "outputs": [],
   "source": []
  }
 ],
 "metadata": {
  "kernelspec": {
   "display_name": "Python 3 (ipykernel)",
   "language": "python",
   "name": "python3"
  },
  "language_info": {
   "codemirror_mode": {
    "name": "ipython",
    "version": 3
   },
   "file_extension": ".py",
   "mimetype": "text/x-python",
   "name": "python",
   "nbconvert_exporter": "python",
   "pygments_lexer": "ipython3",
   "version": "3.9.12"
  }
 },
 "nbformat": 4,
 "nbformat_minor": 5
}
