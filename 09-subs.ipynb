{
 "cells": [
  {
   "cell_type": "code",
   "execution_count": 8,
   "id": "e44dc3c6-a18c-4b3d-899f-f8805d639bd3",
   "metadata": {},
   "outputs": [
    {
     "name": "stdout",
     "output_type": "stream",
     "text": [
      "motif positions:  33 123 158 175 182 211 238 253 260 267 274 343 350 403 444 451 460 467 474 503 538 562 635 653 677 749 756\n"
     ]
    }
   ],
   "source": [
    "from Bio.Seq import Seq\n",
    "from Bio import motifs\n",
    "\n",
    "file = open(\"rosalind_subs.txt\", \"r\").read()\n",
    "splitfile = file.split(\"\\n\")\n",
    "seq = Seq(splitfile[0])\n",
    "\n",
    "instances = [Seq(splitfile[1])]\n",
    "motif = motifs.Instances(instances)\n",
    "answer = \"\"\n",
    "\n",
    "# Find the motif in a sequence\n",
    "for pos, seq in motif.search(seq):\n",
    "    answer = answer + \" \" + str(pos+1)\n",
    "print(\"motif positions:\", answer)\n"
   ]
  },
  {
   "cell_type": "code",
   "execution_count": null,
   "id": "e8f9a5c3-94ac-4654-ada5-554cb8401a2f",
   "metadata": {},
   "outputs": [],
   "source": []
  }
 ],
 "metadata": {
  "kernelspec": {
   "display_name": "Python 3 (ipykernel)",
   "language": "python",
   "name": "python3"
  },
  "language_info": {
   "codemirror_mode": {
    "name": "ipython",
    "version": 3
   },
   "file_extension": ".py",
   "mimetype": "text/x-python",
   "name": "python",
   "nbconvert_exporter": "python",
   "pygments_lexer": "ipython3",
   "version": "3.9.12"
  }
 },
 "nbformat": 4,
 "nbformat_minor": 5
}
