{
 "cells": [
  {
   "cell_type": "code",
   "execution_count": 17,
   "id": "588130ff-aefa-484e-9fb6-786bdb98148d",
   "metadata": {},
   "outputs": [
    {
     "name": "stdout",
     "output_type": "stream",
     "text": [
      "<Bio.Align.AlignInfo.SummaryInfo object at 0x7fe9a81bb8b0>\n",
      "ATGCAACT\n",
      "5 1 0 0 5 5 0 0\n",
      "0 0 1 4 2 0 6 1\n",
      "1 1 6 3 0 1 0 0\n",
      "1 5 0 0 0 1 1 6\n"
     ]
    }
   ],
   "source": [
    "from Bio import AlignIO\n",
    "from Bio.Align import AlignInfo\n",
    "import numpy as np\n",
    "from Bio.Seq import Seq\n",
    "\n",
    "# TODO: dumb_consensus() doesn't allow replacement that Rosalind requires\n",
    "# e.g. T and G have the same number of instances, so X is chosen instead of T or G\n",
    "# open a PR for Rosalind to allow X?\n",
    "\n",
    "# Find a consensus sequence\n",
    "aligned_sequences = AlignIO.read(open(\"test.txt\"), \"fasta\")\n",
    "alignment_info =  AlignInfo.SummaryInfo(aligned_sequences)\n",
    "print(alignment_info)\n",
    "print(alignment_info.dumb_consensus(0.1))\n",
    "pssm = alignment_info.pos_specific_score_matrix()\n",
    "#print(pssm)\n",
    "#print(aligned_sequences)\n",
    "\n",
    "# Load PSSM into a numpy array to rotate\n",
    "for idx,base in enumerate(['A', 'C', 'G', 'T']):\n",
    "    base_arr = np.array([], int)\n",
    "    for position in range(aligned_sequences.get_alignment_length()):\n",
    "        # print(int(pssm[position][base]))\n",
    "        base_arr = np.append(base_arr, int(pssm[position][base]))\n",
    "    print(*base_arr, sep=\" \")"
   ]
  },
  {
   "cell_type": "code",
   "execution_count": 16,
   "id": "ed8dcf92-97fc-455e-a76a-0daad4752610",
   "metadata": {},
   "outputs": [
    {
     "name": "stdout",
     "output_type": "stream",
     "text": [
      "CCCCTGCGGACCCTATCCAATAAAGCTCGAACACTGACACAAATCGTGGCAATCGGTGTACCTGACTGCGACGCTCCGAGAGTCACGGGCAACCAACATCCCCGATGGAGGAAATGGTGCAGGTGACCACAGGCCACTGTGTTATGCGTTACCAACACGAAATCGTTCAGTACTAATCAGCCCAAAGTAACTAGATCGTCCACAACAGAGCGATACCGTATCAAGATAATACCGGAAAAACACGAGAGAAACGTAGTGAGACTAAGTACGAGCATATCGACTGCGATACGGTATCAAACCGAAAGAAGATGTGTGTCAGCGACATGCAGACCCGTAAGATTCGGTCGCCCGAAAAACGGAGGAATCGCTAATCGCCCAAAGTCAGGTGCCAAGACATGCGAAGAAAACTCCACCATAACAGATCTTTAGTCCGAAAGAAGCGGCACAATTGGAGACCTACTTATAAATACAGAAGATGCAAACCAAAGGCTCGTTTAAGACAGAACCCTAACCGCCTACGGATAATAACATTGGACTTGCTGAACGAACCGTAAACGCAGAGCAACAACACAACCAATACCAAGAGCACAATAAGAATAAACATTCCTGCTGGGCCAGCCCAGATACCAGGAACAAACTAGGAAAACGTTCGCGACCACACCTCATGAAACGAAACGCAACCTAAATTCCCAACGATGTCCGAGCGCCGGAGTTAAAAACAACCGTAAAGAGAGAGCGGAATACTGACCGCCCGGCACGATGCCCAGTTCGATCAAAGTTTACAAAAGCGGCGAGATTGTTGGGTAAATAACCTACCCTATAACAGGTCACCAACACCAAACCTACCTCCAACACAGGAAAATCTACCCCAAAGGATCGGAAACATAGCAGTCGAGCGAACTCAACGAGCCTCGACGGACTCTCTCATCACAGCCAA"
     ]
    }
   ],
   "source": [
    "# Another way to find a consensus sequence\n",
    "aligned_sequences = AlignIO.read(open(\"rosalind_cons.txt\"), \"fasta\")\n",
    "seq_length = len(aligned_sequences[0].seq)\n",
    "\n",
    "a_count, c_count, g_count, t_count = np.array([], int), np.array([], int), np.array([], int), np.array([], int)\n",
    "\n",
    "# Count up the bases\n",
    "for base in range(seq_length):\n",
    "    bases = np.array([], str)\n",
    "    for record in aligned_sequences:\n",
    "        bases = np.append(bases, record.seq[base])\n",
    "    base_a = np.count_nonzero(bases == \"A\")\n",
    "    a_count = np.append(a_count, base_a)\n",
    "    base_c = np.count_nonzero(bases == \"C\")\n",
    "    c_count = np.append(c_count, base_c)\n",
    "    base_g = np.count_nonzero(bases == \"G\")\n",
    "    g_count = np.append(g_count, base_g)\n",
    "    base_t = np.count_nonzero(bases == \"T\")\n",
    "    t_count = np.append(t_count, base_t)\n",
    "    sizes = np.array([(\"A\", base_a), (\"C\", base_c), (\"G\", base_g), (\"T\", base_t)])\n",
    "    \n",
    "    # Find the most frequent base\n",
    "    print(max(sizes, key=lambda i : i[1])[0], end=\"\")\n",
    "\n",
    "profile_matrix = np.array([a_count, c_count, g_count, t_count])\n",
    "#for j in profile_matrix:\n",
    "    # print(*j, sep=\" \")\n",
    "\n"
   ]
  },
  {
   "cell_type": "code",
   "execution_count": null,
   "id": "5779597b-f368-48b0-b4ea-714fcb6f3fb4",
   "metadata": {},
   "outputs": [],
   "source": []
  }
 ],
 "metadata": {
  "kernelspec": {
   "display_name": "Python 3 (ipykernel)",
   "language": "python",
   "name": "python3"
  },
  "language_info": {
   "codemirror_mode": {
    "name": "ipython",
    "version": 3
   },
   "file_extension": ".py",
   "mimetype": "text/x-python",
   "name": "python",
   "nbconvert_exporter": "python",
   "pygments_lexer": "ipython3",
   "version": "3.9.12"
  }
 },
 "nbformat": 4,
 "nbformat_minor": 5
}
