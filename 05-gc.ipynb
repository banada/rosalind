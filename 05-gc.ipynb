{
 "cells": [
  {
   "cell_type": "code",
   "execution_count": 4,
   "id": "1112091a-fa4d-4c22-997e-931dfbd0a615",
   "metadata": {},
   "outputs": [
    {
     "name": "stdout",
     "output_type": "stream",
     "text": [
      "('Rosalind_9764', 51.118963486454646)\n"
     ]
    }
   ],
   "source": [
    "from Bio.Seq import Seq\n",
    "from Bio import SeqIO\n",
    "\n",
    "g_count, c_count, total_count = 0,0,0\n",
    "# (ID, GC content)\n",
    "highest_gc = (None, 0.0)\n",
    "\n",
    "for record in SeqIO.parse(\"rosalind_gc.txt\", \"fasta\"):\n",
    "    g_count = record.seq.count(\"G\")\n",
    "    c_count = record.seq.count(\"C\")\n",
    "    total_count = len(record.seq)\n",
    "    gc_count = g_count + c_count\n",
    "    gc_content = (gc_count/total_count) * 100\n",
    "    if ((highest_gc[0] is None) | (gc_content > highest_gc[1])):\n",
    "        highest_gc = (record.id, gc_content)\n",
    "print(highest_gc)"
   ]
  },
  {
   "cell_type": "code",
   "execution_count": 5,
   "id": "825a8005-e911-4bc2-8348-b7cb8ef0676b",
   "metadata": {},
   "outputs": [
    {
     "name": "stdout",
     "output_type": "stream",
     "text": [
      "Rosalind_9764\n",
      "51.119\n"
     ]
    }
   ],
   "source": [
    "print(highest_gc[0])\n",
    "print(round(highest_gc[1], 4))"
   ]
  },
  {
   "cell_type": "code",
   "execution_count": null,
   "id": "1723b2bd-a97e-4ff8-96cd-31ae8a1203c4",
   "metadata": {},
   "outputs": [],
   "source": []
  }
 ],
 "metadata": {
  "kernelspec": {
   "display_name": "Python 3 (ipykernel)",
   "language": "python",
   "name": "python3"
  },
  "language_info": {
   "codemirror_mode": {
    "name": "ipython",
    "version": 3
   },
   "file_extension": ".py",
   "mimetype": "text/x-python",
   "name": "python",
   "nbconvert_exporter": "python",
   "pygments_lexer": "ipython3",
   "version": "3.9.12"
  }
 },
 "nbformat": 4,
 "nbformat_minor": 5
}
