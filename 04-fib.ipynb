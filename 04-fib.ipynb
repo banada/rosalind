{
 "cells": [
  {
   "cell_type": "code",
   "execution_count": 26,
   "id": "3150b787-d633-48ab-8279-65ce5338e415",
   "metadata": {},
   "outputs": [
    {
     "name": "stdout",
     "output_type": "stream",
     "text": [
      "total mature rabbits:  19\n"
     ]
    }
   ],
   "source": [
    "def fib(gen_size, gen_count, mature, maturing, new=0, total=0):\n",
    "    gen_count -= 1\n",
    "\n",
    "    # Takes one generation to mature\n",
    "    mature += maturing\n",
    "    maturing = new\n",
    "    \n",
    "    if (gen_count == 0):\n",
    "        print(\"total mature rabbits: \", mature)\n",
    "        return\n",
    "\n",
    "    # Reproduce\n",
    "    new = mature * gen_size\n",
    "    total = mature + new\n",
    "\n",
    "    # Recurse\n",
    "    fib(gen_size, gen_count, mature, maturing, new, total)\n",
    "\n",
    "\n",
    "fib(gen_size=3, gen_count=5, mature=0, maturing=1)"
   ]
  },
  {
   "cell_type": "code",
   "execution_count": null,
   "id": "4180e1de-209b-423b-af68-2a1c9ce05e4d",
   "metadata": {},
   "outputs": [],
   "source": []
  }
 ],
 "metadata": {
  "kernelspec": {
   "display_name": "Python 3 (ipykernel)",
   "language": "python",
   "name": "python3"
  },
  "language_info": {
   "codemirror_mode": {
    "name": "ipython",
    "version": 3
   },
   "file_extension": ".py",
   "mimetype": "text/x-python",
   "name": "python",
   "nbconvert_exporter": "python",
   "pygments_lexer": "ipython3",
   "version": "3.9.12"
  }
 },
 "nbformat": 4,
 "nbformat_minor": 5
}
