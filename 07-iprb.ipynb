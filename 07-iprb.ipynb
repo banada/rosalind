{
 "cells": [
  {
   "cell_type": "code",
   "execution_count": 19,
   "id": "1e598708-a34d-403b-a0a2-a0673e5ca2fa",
   "metadata": {},
   "outputs": [
    {
     "name": "stdout",
     "output_type": "stream",
     "text": [
      "probability of a dominant phenotype:  0.7445355191256829\n",
      "probabilities add up to:  1.0\n"
     ]
    }
   ],
   "source": [
    "# Takes a tuple of organisms, each representing the allele counts of\n",
    "# one of the mating organisms - (dominant, recessive)\n",
    "# e.g. \"YY x Yy\" would be ((2, 0), (1, 1))\n",
    "def punnett_square(organisms):\n",
    "    YY, Yy, yy = 0, 0, 0\n",
    "    YY = (organisms[0][0] * organisms[1][0]) / 4\n",
    "    Yy = ((organisms[0][0] * organisms[1][1]) + (organisms[0][1] * organisms[1][0])) / 4\n",
    "    yy = (organisms[0][1] * organisms[1][1]) / 4\n",
    "    return (YY, Yy, yy)\n",
    "\n",
    "# homozygous dominant count, YY\n",
    "k = 20\n",
    "# heterozygous count, Yy\n",
    "m = 20\n",
    "# homozygous recessive count, yy\n",
    "n = 21\n",
    "\n",
    "# Population\n",
    "pop = k + m + n\n",
    "gen_pops = (k, m, n)\n",
    "\n",
    "# (dominant, recessive)\n",
    "k_alleles = (2, 0)\n",
    "m_alleles = (1, 1)\n",
    "n_alleles = (0, 2)\n",
    "\n",
    "# k, m, n\n",
    "alleles = ((\"k\", k_alleles), (\"m\", m_alleles), (\"n\", n_alleles))\n",
    "\n",
    "total_dominant_prob = 0\n",
    "total_prob = 0\n",
    "\n",
    "# There are only two levels to the tree\n",
    "# TODO make this recursive to support any number of levels\n",
    "for idx,i in enumerate(alleles):\n",
    "    for jdx,j in enumerate(alleles):\n",
    "        # Genotype probabilities\n",
    "        i_pops = gen_pops[idx]\n",
    "        j_pops = gen_pops[jdx]\n",
    "        # The population changes after the first is chosen\n",
    "        # This works as long as the pop of k, m, and n are each greater than 1\n",
    "        if (idx == jdx):\n",
    "            j_pops -= 1\n",
    "        pop_mod = pop - 1\n",
    "        i_prob = i_pops/pop\n",
    "        j_prob = j_pops/pop_mod\n",
    "        \n",
    "        probability = punnett_square((i[1], j[1]))\n",
    "        \n",
    "        # print(i[0], j[0], i_prob * j_prob)\n",
    "        # print(probability)\n",
    "        \n",
    "        # P(YY) + P(Yy) for this combination\n",
    "        dominant_prob = (probability[0] + probability[1]) * (i_prob * j_prob)\n",
    "        total_dominant_prob += dominant_prob\n",
    "        total_prob += i_prob * j_prob\n",
    "\n",
    "print(\"probability of a dominant phenotype: \", total_dominant_prob)\n",
    "print(\"probabilities add up to: \", total_prob)\n",
    "\n",
    "            "
   ]
  },
  {
   "cell_type": "code",
   "execution_count": null,
   "id": "7374980a-928f-4e81-9f9c-5f1692d684d5",
   "metadata": {},
   "outputs": [],
   "source": []
  }
 ],
 "metadata": {
  "kernelspec": {
   "display_name": "Python 3 (ipykernel)",
   "language": "python",
   "name": "python3"
  },
  "language_info": {
   "codemirror_mode": {
    "name": "ipython",
    "version": 3
   },
   "file_extension": ".py",
   "mimetype": "text/x-python",
   "name": "python",
   "nbconvert_exporter": "python",
   "pygments_lexer": "ipython3",
   "version": "3.9.12"
  }
 },
 "nbformat": 4,
 "nbformat_minor": 5
}
